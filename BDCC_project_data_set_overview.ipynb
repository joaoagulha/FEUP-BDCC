{
  "nbformat": 4,
  "nbformat_minor": 0,
  "metadata": {
    "colab": {
      "name": "BDCC_project_data_set_overview.ipynb",
      "provenance": [],
      "collapsed_sections": []
    },
    "kernelspec": {
      "name": "python3",
      "display_name": "Python 3"
    }
  },
  "cells": [
    {
      "cell_type": "markdown",
      "metadata": {
        "id": "Xm9K0GA_mj4q",
        "colab_type": "text"
      },
      "source": [
        "# BDCC project - data set overview\n",
        "\n",
        "**[Big Data and Cloud Computing](https://www.dcc.fc.up.pt/~edrdo/aulas/bdcc), Project 1**\n"
      ]
    },
    {
      "cell_type": "markdown",
      "metadata": {
        "id": "fLs-2tHZVdAE",
        "colab_type": "text"
      },
      "source": [
        "## Spark setup"
      ]
    },
    {
      "cell_type": "code",
      "metadata": {
        "id": "94Ts396zKTcr",
        "colab_type": "code",
        "outputId": "079be40c-ea3e-46bd-9166-1fbfd2ebc412",
        "cellView": "both",
        "colab": {
          "base_uri": "https://localhost:8080/",
          "height": 295
        }
      },
      "source": [
        "\n",
        "def setupSpark():\n",
        "  # Spark needs to run with Java 8 ... \n",
        "  !pip install -q findspark\n",
        "  !apt-get install openjdk-8-jdk-headless > /dev/null\n",
        "  !echo 2 | update-alternatives --config java > /dev/null\n",
        "  # !java -version\n",
        "  import os, findspark\n",
        "  os.environ['JAVA_HOME'] = '/usr/lib/jvm/java-8-openjdk-amd64'\n",
        "  # !echo JAVA_HOME=$JAVA_HOME\n",
        "  !pip install -q pyspark\n",
        "  findspark.init(spark_home='/usr/local/lib/python3.6/dist-packages/pyspark')\n",
        "  !pyspark --version\n",
        "\n",
        "setupSpark()\n",
        "\n",
        "from pyspark import SparkContext\n",
        "from pyspark.sql import SparkSession\n",
        "    \n",
        "spark = SparkSession\\\n",
        "        .builder\\\n",
        "        .master('local[*]')\\\n",
        "        .getOrCreate()\n",
        "sc = spark.sparkContext"
      ],
      "execution_count": 0,
      "outputs": [
        {
          "output_type": "stream",
          "text": [
            "\u001b[K     |████████████████████████████████| 217.8MB 54kB/s \n",
            "\u001b[K     |████████████████████████████████| 204kB 50.5MB/s \n",
            "\u001b[?25h  Building wheel for pyspark (setup.py) ... \u001b[?25l\u001b[?25hdone\n",
            "Welcome to\n",
            "      ____              __\n",
            "     / __/__  ___ _____/ /__\n",
            "    _\\ \\/ _ \\/ _ `/ __/  '_/\n",
            "   /___/ .__/\\_,_/_/ /_/\\_\\   version 2.4.5\n",
            "      /_/\n",
            "                        \n",
            "Using Scala version 2.11.12, OpenJDK 64-Bit Server VM, 1.8.0_242\n",
            "Branch HEAD\n",
            "Compiled by user centos on 2020-02-02T19:38:06Z\n",
            "Revision cee4ecbb16917fa85f02c635925e2687400aa56b\n",
            "Url https://gitbox.apache.org/repos/asf/spark.git\n",
            "Type --help for more information.\n"
          ],
          "name": "stdout"
        }
      ]
    },
    {
      "cell_type": "code",
      "metadata": {
        "id": "WKxF6HUQJKA6",
        "colab_type": "code",
        "outputId": "84100899-bbf7-47e1-dd3f-6b8711770898",
        "colab": {
          "base_uri": "https://localhost:8080/",
          "height": 124
        }
      },
      "source": [
        "from google.colab import drive\n",
        "drive.mount('/content/drive')"
      ],
      "execution_count": 0,
      "outputs": [
        {
          "output_type": "stream",
          "text": [
            "Go to this URL in a browser: https://accounts.google.com/o/oauth2/auth?client_id=947318989803-6bn6qk8qdgf4n4g3pfee6491hc0brc4i.apps.googleusercontent.com&redirect_uri=urn%3aietf%3awg%3aoauth%3a2.0%3aoob&response_type=code&scope=email%20https%3a%2f%2fwww.googleapis.com%2fauth%2fdocs.test%20https%3a%2f%2fwww.googleapis.com%2fauth%2fdrive%20https%3a%2f%2fwww.googleapis.com%2fauth%2fdrive.photos.readonly%20https%3a%2f%2fwww.googleapis.com%2fauth%2fpeopleapi.readonly\n",
            "\n",
            "Enter your authorization code:\n",
            "··········\n",
            "Mounted at /content/drive\n"
          ],
          "name": "stdout"
        }
      ]
    },
    {
      "cell_type": "code",
      "metadata": {
        "id": "jXUVnNcSJTRM",
        "colab_type": "code",
        "outputId": "ed99bce2-83d0-4bf7-e55a-12eb60aefd86",
        "colab": {
          "base_uri": "https://localhost:8080/",
          "height": 34
        }
      },
      "source": [
        "import os\n",
        "os.environ['GOOGLE_APPLICATION_CREDENTIALS'] = '/content/drive/My Drive/bdcc-colab.json' \n",
        "!echo $GOOGLE_APPLICATION_CREDENTIALS"
      ],
      "execution_count": 0,
      "outputs": [
        {
          "output_type": "stream",
          "text": [
            "/content/drive/My Drive/bdcc-colab.json\n"
          ],
          "name": "stdout"
        }
      ]
    },
    {
      "cell_type": "code",
      "metadata": {
        "id": "WlHQKwKtJWMu",
        "colab_type": "code",
        "outputId": "588346ba-80e0-43a9-c184-a02a974a0b08",
        "colab": {
          "base_uri": "https://localhost:8080/",
          "height": 52
        }
      },
      "source": [
        "from google.cloud import storage\n",
        "\n",
        "storage_client = storage.Client()\n",
        "buckets = storage_client.list_buckets()\n",
        "print('-- List of buckets in project \\\"' + storage_client.project + '\\\"')\n",
        "\n",
        "for b in buckets:\n",
        "  print(b.name)"
      ],
      "execution_count": 0,
      "outputs": [
        {
          "output_type": "stream",
          "text": [
            "-- List of buckets in project \"bdcc20-p1\"\n",
            "bdcc20-movie_data\n"
          ],
          "name": "stdout"
        }
      ]
    },
    {
      "cell_type": "code",
      "metadata": {
        "id": "iXkjVdaeJX9P",
        "colab_type": "code",
        "outputId": "d537b78e-43a3-402b-ef9c-3db2fcde0550",
        "colab": {
          "base_uri": "https://localhost:8080/",
          "height": 330
        }
      },
      "source": [
        "# To enable the GPU access Edit > Notebook settings and set the Hardware accelerator to GPU.\n",
        "\n",
        "%tensorflow_version 2.x \n",
        "import tensorflow as tf\n",
        "\n",
        "print(\"GPU device: \" + tf.test.gpu_device_name())\n",
        "\n",
        "from tensorflow.python.client import device_lib\n",
        "\n",
        "tf_devices = device_lib.list_local_devices()\n",
        "\n",
        "for x in tf_devices:\n",
        "  print('------')\n",
        "  print(x)\n"
      ],
      "execution_count": 0,
      "outputs": [
        {
          "output_type": "stream",
          "text": [
            "GPU device: \n",
            "------\n",
            "name: \"/device:CPU:0\"\n",
            "device_type: \"CPU\"\n",
            "memory_limit: 268435456\n",
            "locality {\n",
            "}\n",
            "incarnation: 15402149842273220958\n",
            "\n",
            "------\n",
            "name: \"/device:XLA_CPU:0\"\n",
            "device_type: \"XLA_CPU\"\n",
            "memory_limit: 17179869184\n",
            "locality {\n",
            "}\n",
            "incarnation: 12902270202234098410\n",
            "physical_device_desc: \"device: XLA_CPU device\"\n",
            "\n"
          ],
          "name": "stdout"
        }
      ]
    },
    {
      "cell_type": "markdown",
      "metadata": {
        "id": "BWuVMPq-VJug",
        "colab_type": "text"
      },
      "source": [
        "## Parameters"
      ]
    },
    {
      "cell_type": "code",
      "metadata": {
        "id": "w6QYyjiwTciH",
        "colab_type": "code",
        "cellView": "both",
        "colab": {}
      },
      "source": [
        "\n",
        "#@markdown ---\n",
        "PROJECT_ID = 'bdcc20-p1'  #@param {type: \"string\"}\n",
        "BUCKET = 'bdcc20-movie_data/bdcc1920_project_datasets' #@param {type: \"string\"}\n",
        "DATASET = \"tiny1\" #@param [\"tiny1\", \"tiny2\", \"tiny3\", \"tiny4\", \"medium1\", \"medium2\", \"medium3\", \"medium4\", \"large1\", \"large2\", \"large3\", \"large4\", \"large5\"]\n",
        "#@markdown ---\n"
      ],
      "execution_count": 0,
      "outputs": []
    },
    {
      "cell_type": "markdown",
      "metadata": {
        "id": "OYpLKlN_WVQK",
        "colab_type": "text"
      },
      "source": [
        "## Authenticate to GCP"
      ]
    },
    {
      "cell_type": "code",
      "metadata": {
        "id": "_JBUnFD7WYhJ",
        "colab_type": "code",
        "outputId": "869fe0d3-ee89-4f32-9f0c-ff5b84ebaf67",
        "colab": {
          "base_uri": "https://localhost:8080/",
          "height": 86
        }
      },
      "source": [
        "# The authentication method \n",
        "def google_colab_authenticate(projectId, keyFile=None, debug=True):  \n",
        "    import os\n",
        "    from google.colab import auth\n",
        "    if keyFile == None:\n",
        "      keyFile='/content/bdcc-colab.json'\n",
        "    if os.access(keyFile,os.R_OK):\n",
        "      if debug:\n",
        "        print('Using key file \"%s\"' % keyFile)\n",
        "      os.environ['GOOGLE_APPLICATION_CREDENTIALS'] = '%s' % keyFile\n",
        "      os.environ['GCP_PROJECT'] = projectId \n",
        "      os.environ['GCP_ACCOUNT'] = 'bdcc-colab@' + projectId + '.iam.gserviceaccount.com'\n",
        "      !gcloud auth activate-service-account --key-file=\"$GOOGLE_APPLICATION_CREDENTIALS\" --project=\"$GCP_PROJECT\"\n",
        "    else:\n",
        "      if debug:\n",
        "        print('No key file given. You may be redirected to the verification code procedure.')\n",
        "      auth.authenticate_user()\n",
        "      !gcloud config set project $projectId\n",
        "    !gcloud info | grep -e Account -e Project\n",
        "\n",
        "# Copy key file from Google Drive if available \n",
        "# to a path without spaces (it usually creates problems)\n",
        "!test -f \"/content/drive/My Drive/bdcc-colab.json\" && cp \"/content/drive/My Drive/bdcc-colab.json\" /content/bdcc-colab.json\n",
        "\n",
        "google_colab_authenticate(PROJECT_ID)"
      ],
      "execution_count": 0,
      "outputs": [
        {
          "output_type": "stream",
          "text": [
            "Using key file \"/content/bdcc-colab.json\"\n",
            "Activated service account credentials for: [bdcc-cloud@bdcc20-p1.iam.gserviceaccount.com]\n",
            "Account: [bdcc-cloud@bdcc20-p1.iam.gserviceaccount.com]\n",
            "Project: [bdcc20-p1]\n"
          ],
          "name": "stdout"
        }
      ]
    },
    {
      "cell_type": "markdown",
      "metadata": {
        "id": "F9BaWKW-XjHZ",
        "colab_type": "text"
      },
      "source": [
        "## Transfer dataset files if necessary"
      ]
    },
    {
      "cell_type": "code",
      "metadata": {
        "id": "Pek32UH5X0e0",
        "colab_type": "code",
        "outputId": "01586049-c40f-4e88-8c7a-ae3f7deabdf4",
        "colab": {
          "base_uri": "https://localhost:8080/",
          "height": 610
        }
      },
      "source": [
        "!ls\n",
        "!test -d $DATASET || gsutil -m cp -r gs://\"$BUCKET\"/\"$DATASET\" .\n",
        "!du --human $DATASET"
      ],
      "execution_count": 0,
      "outputs": [
        {
          "output_type": "stream",
          "text": [
            "bdcc-colab.json  drive\tsample_data\n",
            "Copying gs://bdcc20-movie_data/bdcc1920_project_datasets/tiny1/actors.parquet/._SUCCESS.crc...\n",
            "Copying gs://bdcc20-movie_data/bdcc1920_project_datasets/tiny1/actors.parquet/part-00004-f6d6a44d-0a01-458c-af85-94c613c72cb8-c000.snappy.parquet...\n",
            "Copying gs://bdcc20-movie_data/bdcc1920_project_datasets/tiny1/genres.parquet/._SUCCESS.crc...\n",
            "Copying gs://bdcc20-movie_data/bdcc1920_project_datasets/tiny1/genres.parquet/.part-00000-49cf2b70-c7dc-4f9a-96ea-02fc0fec4eae-c000.snappy.parquet.crc...\n",
            "Copying gs://bdcc20-movie_data/bdcc1920_project_datasets/tiny1/actors.parquet/.part-00000-f6d6a44d-0a01-458c-af85-94c613c72cb8-c000.snappy.parquet.crc...\n",
            "Copying gs://bdcc20-movie_data/bdcc1920_project_datasets/tiny1/genres.parquet/.part-00005-49cf2b70-c7dc-4f9a-96ea-02fc0fec4eae-c000.snappy.parquet.crc...\n",
            "Copying gs://bdcc20-movie_data/bdcc1920_project_datasets/tiny1/actors.parquet/.part-00004-f6d6a44d-0a01-458c-af85-94c613c72cb8-c000.snappy.parquet.crc...\n",
            "Copying gs://bdcc20-movie_data/bdcc1920_project_datasets/tiny1/actors.parquet/_SUCCESS...\n",
            "Copying gs://bdcc20-movie_data/bdcc1920_project_datasets/tiny1/genres.parquet/_SUCCESS...\n",
            "Copying gs://bdcc20-movie_data/bdcc1920_project_datasets/tiny1/genres.parquet/part-00000-49cf2b70-c7dc-4f9a-96ea-02fc0fec4eae-c000.snappy.parquet...\n",
            "Copying gs://bdcc20-movie_data/bdcc1920_project_datasets/tiny1/genres.parquet/part-00005-49cf2b70-c7dc-4f9a-96ea-02fc0fec4eae-c000.snappy.parquet...\n",
            "Copying gs://bdcc20-movie_data/bdcc1920_project_datasets/tiny1/actors.parquet/part-00000-f6d6a44d-0a01-458c-af85-94c613c72cb8-c000.snappy.parquet...\n",
            "Copying gs://bdcc20-movie_data/bdcc1920_project_datasets/tiny1/movies.parquet/._SUCCESS.crc...\n",
            "Copying gs://bdcc20-movie_data/bdcc1920_project_datasets/tiny1/movies.parquet/.part-00000-909df7ed-f5af-41c6-b553-d65dfa9bea7a-c000.snappy.parquet.crc...\n",
            "Copying gs://bdcc20-movie_data/bdcc1920_project_datasets/tiny1/movies.parquet/_SUCCESS...\n",
            "Copying gs://bdcc20-movie_data/bdcc1920_project_datasets/tiny1/ratings.parquet/._SUCCESS.crc...\n",
            "Copying gs://bdcc20-movie_data/bdcc1920_project_datasets/tiny1/movies.parquet/part-00000-909df7ed-f5af-41c6-b553-d65dfa9bea7a-c000.snappy.parquet...\n",
            "Copying gs://bdcc20-movie_data/bdcc1920_project_datasets/tiny1/ratings.parquet/.part-00000-7e36cbbb-9f0e-4592-90e0-21fc096e5e3b-c000.snappy.parquet.crc...\n",
            "Copying gs://bdcc20-movie_data/bdcc1920_project_datasets/tiny1/ratings.parquet/_SUCCESS...\n",
            "Copying gs://bdcc20-movie_data/bdcc1920_project_datasets/tiny1/tags.parquet/.part-00000-425403d0-f893-4bd4-8fe9-6f3c97aeeb89-c000.snappy.parquet.crc...\n",
            "Copying gs://bdcc20-movie_data/bdcc1920_project_datasets/tiny1/ratings.parquet/part-00000-7e36cbbb-9f0e-4592-90e0-21fc096e5e3b-c000.snappy.parquet...\n",
            "Copying gs://bdcc20-movie_data/bdcc1920_project_datasets/tiny1/tags.parquet/._SUCCESS.crc...\n",
            "Copying gs://bdcc20-movie_data/bdcc1920_project_datasets/tiny1/tags.parquet/part-00000-425403d0-f893-4bd4-8fe9-6f3c97aeeb89-c000.snappy.parquet...\n",
            "Copying gs://bdcc20-movie_data/bdcc1920_project_datasets/tiny1/tags.parquet/_SUCCESS...\n",
            "- [24/24 files][  9.2 KiB/  9.2 KiB] 100% Done                                  \n",
            "Operation completed over 24 objects/9.2 KiB.                                     \n",
            "16K\ttiny1/tags.parquet\n",
            "24K\ttiny1/genres.parquet\n",
            "16K\ttiny1/ratings.parquet\n",
            "24K\ttiny1/actors.parquet\n",
            "16K\ttiny1/movies.parquet\n",
            "100K\ttiny1\n"
          ],
          "name": "stdout"
        }
      ]
    },
    {
      "cell_type": "markdown",
      "metadata": {
        "id": "tZmcj26dHJ5X",
        "colab_type": "text"
      },
      "source": [
        "## Load data from Parquet files\n"
      ]
    },
    {
      "cell_type": "code",
      "metadata": {
        "id": "9RpaXsmgV-Wi",
        "colab_type": "code",
        "outputId": "4a68aa2b-29eb-4b27-9d6e-f1178bebfa6b",
        "colab": {
          "base_uri": "https://localhost:8080/",
          "height": 104
        }
      },
      "source": [
        "def readParquet(file, debug=False):\n",
        "    global spark\n",
        "    if debug:\n",
        "       print('==> Reading ' + file)\n",
        "    df = spark.read.parquet(file)\n",
        "    return df\n",
        " \n",
        "def readDataSet(debug=False):\n",
        "  global DATASET, movies, actors, genres, ratings, tags\n",
        "  movies =  readParquet(DATASET + '/movies.parquet', debug)\n",
        "  actors =  readParquet(DATASET + '/actors.parquet', debug)\n",
        "  genres =  readParquet(DATASET + '/genres.parquet', debug)\n",
        "  ratings = readParquet(DATASET + '/ratings.parquet', debug)\n",
        "  tags =    readParquet(DATASET + '/tags.parquet', debug)\n",
        "\n",
        "readDataSet(debug=True)"
      ],
      "execution_count": 0,
      "outputs": [
        {
          "output_type": "stream",
          "text": [
            "==> Reading tiny1/movies.parquet\n",
            "==> Reading tiny1/actors.parquet\n",
            "==> Reading tiny1/genres.parquet\n",
            "==> Reading tiny1/ratings.parquet\n",
            "==> Reading tiny1/tags.parquet\n"
          ],
          "name": "stdout"
        }
      ]
    },
    {
      "cell_type": "markdown",
      "metadata": {
        "id": "sb-V1f5c9xP9",
        "colab_type": "text"
      },
      "source": [
        "## View summary information"
      ]
    },
    {
      "cell_type": "code",
      "metadata": {
        "id": "cHexl4Tw6tSd",
        "colab_type": "code",
        "colab": {}
      },
      "source": [
        "def summary(df, name, distAttr,byMovie=False):\n",
        "  df.createOrReplaceTempView(name)\n",
        "  sdf = spark.sql(\n",
        "      \"\"\"\n",
        "      SELECT '%s' AS df, \n",
        "             COUNT(*) AS count, \n",
        "             COUNT(DISTINCT %s) AS unique,\n",
        "             COUNT(DISTINCT movieId) AS unique_movies, \n",
        "             %d - COUNT(DISTINCT movieId) AS movies_without_data, \n",
        "             COUNT(*) / %d AS avg_by_movie\n",
        "      FROM %s\n",
        "      \"\"\" % (name, distAttr, MOVIE_COUNT, MOVIE_COUNT, name)\n",
        "  )\n",
        "  print(\"== %s ==\" % name)\n",
        "  sdf.show()\n",
        "  df.printSchema()\n",
        "  df.limit(10).show()\n",
        "  spark.catalog.dropGlobalTempView(name)"
      ],
      "execution_count": 0,
      "outputs": []
    },
    {
      "cell_type": "markdown",
      "metadata": {
        "id": "7FRb5Gkjq1Sd",
        "colab_type": "text"
      },
      "source": [
        "### Movies"
      ]
    },
    {
      "cell_type": "code",
      "metadata": {
        "id": "VbTISnIMe5NM",
        "colab_type": "code",
        "outputId": "09bb8275-0122-4196-9b8f-21fc7e91d41a",
        "colab": {
          "base_uri": "https://localhost:8080/",
          "height": 503
        }
      },
      "source": [
        "MOVIE_COUNT = movies.count()\n",
        "summary(movies, 'movies', 'movieId')"
      ],
      "execution_count": 0,
      "outputs": [
        {
          "output_type": "stream",
          "text": [
            "== movies ==\n",
            "+------+-----+------+-------------+-------------------+------------+\n",
            "|    df|count|unique|unique_movies|movies_without_data|avg_by_movie|\n",
            "+------+-----+------+-------------+-------------------+------------+\n",
            "|movies|   10|    10|           10|                  0|         1.0|\n",
            "+------+-----+------+-------------+-------------------+------------+\n",
            "\n",
            "root\n",
            " |-- movieId: integer (nullable = true)\n",
            " |-- title: string (nullable = true)\n",
            " |-- year: integer (nullable = true)\n",
            " |-- imdbId: integer (nullable = true)\n",
            "\n",
            "+-------+--------------------+----+------+\n",
            "|movieId|               title|year|imdbId|\n",
            "+-------+--------------------+----+------+\n",
            "|      1|           Toy Story|1995|114709|\n",
            "|      2|             Jumanji|1995|113497|\n",
            "|      3|    Grumpier Old Men|1995|113228|\n",
            "|      4|   Waiting to Exhale|1995|114885|\n",
            "|      5|Father of the Bri...|1995|113041|\n",
            "|      6|                Heat|1995|113277|\n",
            "|      7|             Sabrina|1995|114319|\n",
            "|      8|        Tom and Huck|1995|112302|\n",
            "|      9|        Sudden Death|1995|114576|\n",
            "|     10|           GoldenEye|1995|113189|\n",
            "+-------+--------------------+----+------+\n",
            "\n"
          ],
          "name": "stdout"
        }
      ]
    },
    {
      "cell_type": "markdown",
      "metadata": {
        "id": "0S2JRYEoq3tJ",
        "colab_type": "text"
      },
      "source": [
        "### Actors"
      ]
    },
    {
      "cell_type": "code",
      "metadata": {
        "id": "uEtP_1LrgbAa",
        "colab_type": "code",
        "outputId": "f3604b6c-ad80-4946-bcbe-3d832a8b1f93",
        "colab": {
          "base_uri": "https://localhost:8080/",
          "height": 469
        }
      },
      "source": [
        "summary(actors, 'actor', 'name')"
      ],
      "execution_count": 0,
      "outputs": [
        {
          "output_type": "stream",
          "text": [
            "== actor ==\n",
            "+-----+-----+------+-------------+-------------------+------------+\n",
            "|   df|count|unique|unique_movies|movies_without_data|avg_by_movie|\n",
            "+-----+-----+------+-------------+-------------------+------------+\n",
            "|actor|   40|    40|           10|                  0|         4.0|\n",
            "+-----+-----+------+-------------+-------------------+------------+\n",
            "\n",
            "root\n",
            " |-- movieId: integer (nullable = true)\n",
            " |-- name: string (nullable = true)\n",
            "\n",
            "+-------+--------------+\n",
            "|movieId|          name|\n",
            "+-------+--------------+\n",
            "|      1|     Tim Allen|\n",
            "|      1|   Don Rickles|\n",
            "|      1|    Jim Varney|\n",
            "|      1|     Tom Hanks|\n",
            "|      2| Kirsten Dunst|\n",
            "|      2|Robin Williams|\n",
            "|      2| Jonathan Hyde|\n",
            "|      2|   Bonnie Hunt|\n",
            "|      3|   Jack Lemmon|\n",
            "|      3|Walter Matthau|\n",
            "+-------+--------------+\n",
            "\n"
          ],
          "name": "stdout"
        }
      ]
    },
    {
      "cell_type": "code",
      "metadata": {
        "id": "GtZTvKGJhIw0",
        "colab_type": "code",
        "outputId": "529a208c-ca9a-4ecc-ffce-7309f01b371d",
        "colab": {
          "base_uri": "https://localhost:8080/",
          "height": 469
        }
      },
      "source": [
        "summary(genres, 'genres', 'genre')"
      ],
      "execution_count": 0,
      "outputs": [
        {
          "output_type": "stream",
          "text": [
            "== genres ==\n",
            "+------+-----+------+-------------+-------------------+------------+\n",
            "|    df|count|unique|unique_movies|movies_without_data|avg_by_movie|\n",
            "+------+-----+------+-------------+-------------------+------------+\n",
            "|genres|   25|    10|           10|                  0|         2.5|\n",
            "+------+-----+------+-------------+-------------------+------------+\n",
            "\n",
            "root\n",
            " |-- movieId: integer (nullable = true)\n",
            " |-- genre: string (nullable = true)\n",
            "\n",
            "+-------+---------+\n",
            "|movieId|    genre|\n",
            "+-------+---------+\n",
            "|      1|Adventure|\n",
            "|      1|Animation|\n",
            "|      1| Children|\n",
            "|      1|   Comedy|\n",
            "|      1|  Fantasy|\n",
            "|      2|Adventure|\n",
            "|      2| Children|\n",
            "|      2|  Fantasy|\n",
            "|      3|   Comedy|\n",
            "|      3|  Romance|\n",
            "+-------+---------+\n",
            "\n"
          ],
          "name": "stdout"
        }
      ]
    },
    {
      "cell_type": "code",
      "metadata": {
        "id": "EV__5bLHhMLM",
        "colab_type": "code",
        "outputId": "bd8bb8e2-2e53-475b-b460-d147dcbab275",
        "colab": {
          "base_uri": "https://localhost:8080/",
          "height": 486
        }
      },
      "source": [
        "summary(ratings, 'ratings', 'rating')"
      ],
      "execution_count": 0,
      "outputs": [
        {
          "output_type": "stream",
          "text": [
            "== ratings ==\n",
            "+-------+-----+------+-------------+-------------------+------------+\n",
            "|     df|count|unique|unique_movies|movies_without_data|avg_by_movie|\n",
            "+-------+-----+------+-------------+-------------------+------------+\n",
            "|ratings|  745|    10|           10|                  0|        74.5|\n",
            "+-------+-----+------+-------------+-------------------+------------+\n",
            "\n",
            "root\n",
            " |-- movieId: integer (nullable = true)\n",
            " |-- userId: integer (nullable = true)\n",
            " |-- rating: double (nullable = true)\n",
            "\n",
            "+-------+------+------+\n",
            "|movieId|userId|rating|\n",
            "+-------+------+------+\n",
            "|      1|     1|   4.0|\n",
            "|      3|     1|   4.0|\n",
            "|      6|     1|   4.0|\n",
            "|      1|     5|   4.0|\n",
            "|      2|     6|   4.0|\n",
            "|      3|     6|   5.0|\n",
            "|      4|     6|   3.0|\n",
            "|      5|     6|   5.0|\n",
            "|      6|     6|   4.0|\n",
            "|      7|     6|   4.0|\n",
            "+-------+------+------+\n",
            "\n"
          ],
          "name": "stdout"
        }
      ]
    },
    {
      "cell_type": "code",
      "metadata": {
        "id": "_0V0RpjrhSLv",
        "colab_type": "code",
        "outputId": "015eae7a-e46f-49cf-8181-6a659e3e8db8",
        "colab": {
          "base_uri": "https://localhost:8080/",
          "height": 486
        }
      },
      "source": [
        "summary(tags, 'tags', 'tag')"
      ],
      "execution_count": 0,
      "outputs": [
        {
          "output_type": "stream",
          "text": [
            "== tags ==\n",
            "+----+-----+------+-------------+-------------------+------------+\n",
            "|  df|count|unique|unique_movies|movies_without_data|avg_by_movie|\n",
            "+----+-----+------+-------------+-------------------+------------+\n",
            "|tags|   12|    10|            5|                  5|         1.2|\n",
            "+----+-----+------+-------------+-------------------+------------+\n",
            "\n",
            "root\n",
            " |-- movieId: integer (nullable = true)\n",
            " |-- userId: integer (nullable = true)\n",
            " |-- tag: string (nullable = true)\n",
            "\n",
            "+-------+------+----------------+\n",
            "|movieId|userId|             tag|\n",
            "+-------+------+----------------+\n",
            "|      2|    62|         fantasy|\n",
            "|      2|    62|magic board game|\n",
            "|      2|    62|  Robin Williams|\n",
            "|      3|   289|           moldy|\n",
            "|      3|   289|             old|\n",
            "|      1|   336|           pixar|\n",
            "|      1|   474|           pixar|\n",
            "|      2|   474|            game|\n",
            "|      5|   474|       pregnancy|\n",
            "|      5|   474|          remake|\n",
            "+-------+------+----------------+\n",
            "\n"
          ],
          "name": "stdout"
        }
      ]
    }
  ]
}